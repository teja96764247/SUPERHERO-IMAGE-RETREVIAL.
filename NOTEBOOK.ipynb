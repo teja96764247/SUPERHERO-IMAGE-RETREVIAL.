{
 "cells": [
  {
   "cell_type": "code",
   "execution_count": 31,
   "metadata": {},
   "outputs": [],
   "source": [
    "import opendatasets as od"
   ]
  },
  {
   "cell_type": "code",
   "execution_count": 32,
   "metadata": {},
   "outputs": [
    {
     "name": "stdout",
     "output_type": "stream",
     "text": [
      "Skipping, found downloaded files in \".\\sh2022-dataset\" (use force=True to force download)\n"
     ]
    }
   ],
   "source": [
    "folder_dir=od.download(\"https://www.kaggle.com/datasets/muhammadhananasghar/sh2022-dataset\")"
   ]
  },
  {
   "cell_type": "code",
   "execution_count": 33,
   "metadata": {},
   "outputs": [],
   "source": [
    "import tensorflow as tf\n",
    "import cv2\n",
    "import numpy as np\n",
    "import pandas as pd\n",
    "import os\n",
    "from PIL import Image,ImageOps\n",
    "from numpy.linalg import norm\n",
    "import tensorflow\n",
    "from keras.applications.resnet50 import ResNet50, preprocess_input\n",
    "from keras.layers import GlobalMaxPooling2D\n",
    "from sklearn.neighbors import NearestNeighbors\n",
    "import pickle\n",
    "import matplotlib.pyplot as plt\n",
    "from tqdm import tqdm"
   ]
  },
  {
   "cell_type": "code",
   "execution_count": 34,
   "metadata": {},
   "outputs": [],
   "source": [
    "import warnings\n",
    "warnings.filterwarnings(\"ignore\")"
   ]
  },
  {
   "cell_type": "code",
   "execution_count": 35,
   "metadata": {},
   "outputs": [],
   "source": [
    "from keras.applications.resnet50 import ResNet50\n",
    "model=ResNet50(weights=\"imagenet\",include_top=False,input_shape=(224,224,3))\n",
    "model.trainable=False"
   ]
  },
  {
   "cell_type": "code",
   "execution_count": 36,
   "metadata": {},
   "outputs": [],
   "source": [
    "\n",
    "model = tensorflow.keras.Sequential([\n",
    "    model,\n",
    "    GlobalMaxPooling2D()\n",
    "])\n"
   ]
  },
  {
   "cell_type": "code",
   "execution_count": 37,
   "metadata": {},
   "outputs": [],
   "source": [
    "train_folder_path='sh2022-dataset/dataset/train/'"
   ]
  },
  {
   "cell_type": "code",
   "execution_count": 43,
   "metadata": {},
   "outputs": [
    {
     "name": "stdout",
     "output_type": "stream",
     "text": [
      "['Ant Man', 'Aquaman', 'Batman', 'Black Panther', 'Black Widow', 'Captain America', 'Captain Marvel', 'Deadpool', 'Dr Strange', 'Falcon', 'Flash', 'Green Lantern', 'Hawkeye', 'Hulk', 'Iron Man', 'Joker', 'Nebula', 'Rocket Raccon', 'Scarlet Witch', 'Shazam', 'Spider Man', 'Super Man', 'Thor', 'Wonder Woman']\n",
      "24\n"
     ]
    }
   ],
   "source": [
    "train_folder=os.listdir(train_folder_path)\n",
    "print(train_folder)\n",
    "print(len(train_folder))"
   ]
  },
  {
   "cell_type": "code",
   "execution_count": 46,
   "metadata": {},
   "outputs": [],
   "source": [
    "featured_array=[]\n",
    "image_paths=[]"
   ]
  },
  {
   "cell_type": "code",
   "execution_count": null,
   "metadata": {},
   "outputs": [],
   "source": [
    "for i in tqdm(range(24)):\n",
    "    folder_path=train_folder_path+train_folder[i]\n",
    "    img_folder=os.listdir(folder_path)\n",
    "    l=len(img_folder)//2\n",
    "    for j in tqdm(range(l)):\n",
    "        img_path=folder_path+'/'+img_folder[j]\n",
    "        img_pillow=Image.open(img_path)\n",
    "        img_color=img_pillow.convert('RGB')\n",
    "        img_resize=img_color.resize((224,224))\n",
    "        img_arr=np.array(img_resize)\n",
    "        expand_img=np.expand_dims(img_arr,axis=0)\n",
    "        preprocess_img=preprocess_input(expand_img)\n",
    "        result=model.predict(preprocess_img).flatten()\n",
    "        normalized=result/norm(result)\n",
    "        featured_array.append(normalized)\n",
    "        image_paths.append(img_path)"
   ]
  },
  {
   "cell_type": "code",
   "execution_count": 48,
   "metadata": {},
   "outputs": [],
   "source": [
    "import pickle\n",
    "pickle.dump(featured_array,open('superhero_featured_array.pkl','wb'))\n",
    "pickle.dump(image_paths,open('superhero_image_paths.pkl','wb'))\n"
   ]
  },
  {
   "cell_type": "code",
   "execution_count": null,
   "metadata": {},
   "outputs": [],
   "source": []
  }
 ],
 "metadata": {
  "kernelspec": {
   "display_name": "myenv",
   "language": "python",
   "name": "python3"
  },
  "language_info": {
   "codemirror_mode": {
    "name": "ipython",
    "version": 3
   },
   "file_extension": ".py",
   "mimetype": "text/x-python",
   "name": "python",
   "nbconvert_exporter": "python",
   "pygments_lexer": "ipython3",
   "version": "3.11.5"
  }
 },
 "nbformat": 4,
 "nbformat_minor": 2
}
